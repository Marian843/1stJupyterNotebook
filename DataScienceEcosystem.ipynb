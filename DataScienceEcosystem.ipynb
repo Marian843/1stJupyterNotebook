{
 "cells": [
  {
   "cell_type": "markdown",
   "id": "ba6bd3d6-b6ee-4934-b981-11bd60b76fce",
   "metadata": {},
   "source": [
    "# Data Science Tools and Ecosystem"
   ]
  },
  {
   "cell_type": "markdown",
   "id": "7d182ea2-9b42-4c54-88bc-22e864b342e0",
   "metadata": {},
   "source": [
    "### In this notebook, Data Science Tools and Ecosystem are summarized."
   ]
  },
  {
   "cell_type": "markdown",
   "id": "0b135cec-80e9-4c30-8083-71823916d550",
   "metadata": {},
   "source": [
    "**Objectives:**\n",
    "\n",
    "- List popular languages for Data Science\n",
    "- Commonly used libraries for Data Science\n",
    "- Data Science tools\n",
    "- Arithmetic Expressions in Python"
   ]
  },
  {
   "cell_type": "markdown",
   "id": "ca76e5fa-d656-4038-85b3-f6ac9f7039b1",
   "metadata": {},
   "source": [
    "#### Some of the popular languages that Data Scientists use are:\n",
    "1. Python\n",
    "2. R \n",
    "3. SQL\n",
    "4. Julia\n",
    "5. JavaScript\n",
    "6. Java"
   ]
  },
  {
   "cell_type": "markdown",
   "id": "6dc747fd-86a1-4523-880b-729165ff8e46",
   "metadata": {},
   "source": [
    "#### Some of the commonly used libraries used by Data Scientists include:\n",
    "1. Pandas — Data manipulation and analysis\n",
    "2. NumPy — Numerical computing and arrays\n",
    "3. Matplotlib — Data visualization (basic plotting)\n",
    "4. Seaborn — Statistical data visualization\n",
    "5. Scikit-learn — Machine learning algorithms and tools\n",
    "6. TensorFlow — Deep learning framework\n",
    "7. Keras — High-level neural networks API (runs on TensorFlow)\n",
    "8. PyTorch — Deep learning framework\n",
    "9. XGBoost — Gradient boosting algorithm for supervised learning\n",
    "10. Statsmodels — Statistical modeling and hypothesis testing"
   ]
  },
  {
   "cell_type": "markdown",
   "id": "f8e0b57d-ca30-476f-a86a-709a6135090f",
   "metadata": {},
   "source": [
    "|Data Science Tools|\n",
    "|------------------|\n",
    "|Jupyter Notebook|\n",
    "|R Studio|\n",
    "|VS Code|"
   ]
  },
  {
   "cell_type": "markdown",
   "id": "ae2157d3-781e-4b3e-8579-a5e79aa394b2",
   "metadata": {},
   "source": [
    "### Below are a few examples of evaluating arithmetic expressions in Python"
   ]
  },
  {
   "cell_type": "code",
   "execution_count": 8,
   "id": "c43f73c7-9bb2-433c-b0e4-b00160340311",
   "metadata": {},
   "outputs": [
    {
     "data": {
      "text/plain": [
       "17"
      ]
     },
     "execution_count": 8,
     "metadata": {},
     "output_type": "execute_result"
    }
   ],
   "source": [
    "# This a simple arithmetic expression to mutiply then add integers\n",
    "\n",
    "(3*4)+5"
   ]
  },
  {
   "cell_type": "code",
   "execution_count": 9,
   "id": "a87100a9-7e18-4534-b1f8-29ebf013054f",
   "metadata": {},
   "outputs": [
    {
     "data": {
      "text/plain": [
       "3.3333333333333335"
      ]
     },
     "execution_count": 9,
     "metadata": {},
     "output_type": "execute_result"
    }
   ],
   "source": [
    "# This will convert 200 minutes to hours by diving by 60\n",
    "200/60"
   ]
  },
  {
   "cell_type": "markdown",
   "id": "ba88b551-155c-4527-96e2-1173e07763b7",
   "metadata": {},
   "source": [
    "## Author\n",
    "Marian S. Facunla"
   ]
  },
  {
   "cell_type": "code",
   "execution_count": null,
   "id": "dec507c2-1ddd-461d-9b29-02c4f8292dae",
   "metadata": {},
   "outputs": [],
   "source": []
  }
 ],
 "metadata": {
  "kernelspec": {
   "display_name": "Python [conda env:RP_Env]",
   "language": "python",
   "name": "conda-env-RP_Env-py"
  },
  "language_info": {
   "codemirror_mode": {
    "name": "ipython",
    "version": 3
   },
   "file_extension": ".py",
   "mimetype": "text/x-python",
   "name": "python",
   "nbconvert_exporter": "python",
   "pygments_lexer": "ipython3",
   "version": "3.12.9"
  }
 },
 "nbformat": 4,
 "nbformat_minor": 5
}
